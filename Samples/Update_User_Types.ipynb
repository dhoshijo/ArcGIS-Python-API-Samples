{
 "cells": [
  {
   "cell_type": "code",
   "execution_count": null,
   "metadata": {},
   "outputs": [],
   "source": [
    "#Imports\n",
    "import arcgis\n",
    "import time\n",
    "start = time.time()"
   ]
  },
  {
   "cell_type": "code",
   "execution_count": null,
   "metadata": {},
   "outputs": [],
   "source": [
    "portal_username = '<username>'\n",
    "pw = '<password>'\n",
    "\n",
    "portal_url = 'https://<hostname>/portal'\n",
    "\n",
    "#specify FROM and TO user types\n",
    "original_user_type = 'liteUT'\n",
    "new_user_type = 'viewerUT'\n",
    "\n",
    "gis = arcgis.gis.GIS(portal_url,portal_username,pw)\n",
    "liteUsers = gis.users.search(max_users=10000, user_type=original_user_type)\n",
    "print(\"Total Users needing update: {}\".format(len(liteUsers)))\n",
    "for user in liteUsers:\n",
    "    print(\"~~~~~~~~~~~~~~~~~~~~~~~~~~~~~~~~~~~~~~~~~~~~~~~~~~~~~~~~\")\n",
    "    print(\"Updating: {}\".format(user))\n",
    "    try:\n",
    "        user.update_license_type(new_user_type)\n",
    "    except:\n",
    "        print(\"failed to update {}\".format(user))\n",
    "                                                  "
   ]
  }
 ],
 "metadata": {
  "kernelspec": {
   "display_name": "Python 3",
   "language": "python",
   "name": "python3"
  },
  "language_info": {
   "codemirror_mode": {
    "name": "ipython",
    "version": 3
   },
   "file_extension": ".py",
   "mimetype": "text/x-python",
   "name": "python",
   "nbconvert_exporter": "python",
   "pygments_lexer": "ipython3",
   "version": "3.6.8"
  }
 },
 "nbformat": 4,
 "nbformat_minor": 2
}
